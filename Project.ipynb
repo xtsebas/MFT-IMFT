{
 "cells": [
  {
   "cell_type": "markdown",
   "id": "363167af",
   "metadata": {},
   "source": [
    "# Algoritmos de MFT e IMFT"
   ]
  },
  {
   "cell_type": "markdown",
   "id": "d28d4cfd",
   "metadata": {},
   "source": [
    "## a) Calcular el costo de acceso utilizando el algoritmo MTF para\n",
    "    - a. Lista de configuración: 0, 1, 2, 3, 4\n",
    "    - b. Secuencia de solicitudes: 0, 1, 2, 3, 4, 0, 1, 2, 3, 4, 0, 1, 2, 3, 4, 0, 1, 2, 3, 4\n",
    "Imprima la lista de configuración, la solicitud, su costo y la configuración de la lista aplicando MTF\n",
    "por cada solicitud en la secuencia y, al final, imprima el costo total de los accesos.\n"
   ]
  },
  {
   "cell_type": "markdown",
   "id": "9a7736de",
   "metadata": {},
   "source": [
    "## b) Calcular el costo de acceso utilizando el algoritmo MTF para\n",
    "    - a. Lista de configuración: 0, 1, 2, 3, 4\n",
    "    - b. Secuencia de solicitudes: 4, 3, 2, 1, 0, 1, 2, 3, 4, 3, 2, 1, 0, 1, 2, 3, 4\n",
    "Imprima la lista de configuración, la solicitud, su costo y la configuración de la lista ap"
   ]
  }
 ],
 "metadata": {
  "language_info": {
   "name": "python"
  }
 },
 "nbformat": 4,
 "nbformat_minor": 5
}
