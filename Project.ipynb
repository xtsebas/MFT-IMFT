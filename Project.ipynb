{
 "cells": [
  {
   "cell_type": "markdown",
   "id": "363167af",
   "metadata": {},
   "source": [
    "# Algoritmos de MFT e IMFT"
   ]
  },
  {
   "cell_type": "code",
   "execution_count": 1,
   "id": "2c0f2e1f",
   "metadata": {},
   "outputs": [],
   "source": [
    "from algorithms.MFT import move_to_front\n",
    "from algorithms.IMFT import improved_move_to_front"
   ]
  },
  {
   "cell_type": "markdown",
   "id": "d28d4cfd",
   "metadata": {},
   "source": [
    "## a) Calcular el costo de acceso utilizando el algoritmo MTF para\n",
    "    - a. Lista de configuración: 0, 1, 2, 3, 4\n",
    "    - b. Secuencia de solicitudes: 0, 1, 2, 3, 4, 0, 1, 2, 3, 4, 0, 1, 2, 3, 4, 0, 1, 2, 3, 4\n",
    "Imprima la lista de configuración, la solicitud, su costo y la configuración de la lista aplicando MTF\n",
    "por cada solicitud en la secuencia y, al final, imprima el costo total de los accesos.\n"
   ]
  },
  {
   "cell_type": "code",
   "execution_count": 6,
   "id": "7b3075df",
   "metadata": {},
   "outputs": [
    {
     "name": "stdout",
     "output_type": "stream",
     "text": [
      "Lista Antes: [0, 1, 2, 3, 4],        Solicitud: 0,       Costo: 1,     Lista Después: [0, 1, 2, 3, 4]\n",
      "Lista Antes: [0, 1, 2, 3, 4],        Solicitud: 1,       Costo: 2,     Lista Después: [1, 0, 2, 3, 4]\n",
      "Lista Antes: [1, 0, 2, 3, 4],        Solicitud: 2,       Costo: 3,     Lista Después: [2, 1, 0, 3, 4]\n",
      "Lista Antes: [2, 1, 0, 3, 4],        Solicitud: 3,       Costo: 4,     Lista Después: [3, 2, 1, 0, 4]\n",
      "Lista Antes: [3, 2, 1, 0, 4],        Solicitud: 4,       Costo: 5,     Lista Después: [4, 3, 2, 1, 0]\n",
      "Lista Antes: [4, 3, 2, 1, 0],        Solicitud: 0,       Costo: 5,     Lista Después: [0, 4, 3, 2, 1]\n",
      "Lista Antes: [0, 4, 3, 2, 1],        Solicitud: 1,       Costo: 5,     Lista Después: [1, 0, 4, 3, 2]\n",
      "Lista Antes: [1, 0, 4, 3, 2],        Solicitud: 2,       Costo: 5,     Lista Después: [2, 1, 0, 4, 3]\n",
      "Lista Antes: [2, 1, 0, 4, 3],        Solicitud: 3,       Costo: 5,     Lista Después: [3, 2, 1, 0, 4]\n",
      "Lista Antes: [3, 2, 1, 0, 4],        Solicitud: 4,       Costo: 5,     Lista Después: [4, 3, 2, 1, 0]\n",
      "Lista Antes: [4, 3, 2, 1, 0],        Solicitud: 0,       Costo: 5,     Lista Después: [0, 4, 3, 2, 1]\n",
      "Lista Antes: [0, 4, 3, 2, 1],        Solicitud: 1,       Costo: 5,     Lista Después: [1, 0, 4, 3, 2]\n",
      "Lista Antes: [1, 0, 4, 3, 2],        Solicitud: 2,       Costo: 5,     Lista Después: [2, 1, 0, 4, 3]\n",
      "Lista Antes: [2, 1, 0, 4, 3],        Solicitud: 3,       Costo: 5,     Lista Después: [3, 2, 1, 0, 4]\n",
      "Lista Antes: [3, 2, 1, 0, 4],        Solicitud: 4,       Costo: 5,     Lista Después: [4, 3, 2, 1, 0]\n",
      "Lista Antes: [4, 3, 2, 1, 0],        Solicitud: 0,       Costo: 5,     Lista Después: [0, 4, 3, 2, 1]\n",
      "Lista Antes: [0, 4, 3, 2, 1],        Solicitud: 1,       Costo: 5,     Lista Después: [1, 0, 4, 3, 2]\n",
      "Lista Antes: [1, 0, 4, 3, 2],        Solicitud: 2,       Costo: 5,     Lista Después: [2, 1, 0, 4, 3]\n",
      "Lista Antes: [2, 1, 0, 4, 3],        Solicitud: 3,       Costo: 5,     Lista Después: [3, 2, 1, 0, 4]\n",
      "Lista Antes: [3, 2, 1, 0, 4],        Solicitud: 4,       Costo: 5,     Lista Después: [4, 3, 2, 1, 0]\n",
      "Costo total: 90\n"
     ]
    }
   ],
   "source": [
    "config = [0, 1, 2, 3, 4]\n",
    "requests = [0, 1, 2, 3, 4] * 4\n",
    "\n",
    "total, history = move_to_front(config.copy(), requests)\n",
    "\n",
    "for step in history:\n",
    "    print(f\"Lista Antes: {step['before']},        Solicitud: {step['request']},       Costo: {step['cost']},     Lista Después: {step['after']}\")\n",
    "print(\"Costo total:\", total)\n"
   ]
  },
  {
   "cell_type": "markdown",
   "id": "9a7736de",
   "metadata": {},
   "source": [
    "## b) Calcular el costo de acceso utilizando el algoritmo MTF para\n",
    "    - a. Lista de configuración: 0, 1, 2, 3, 4\n",
    "    - b. Secuencia de solicitudes: 4, 3, 2, 1, 0, 1, 2, 3, 4, 3, 2, 1, 0, 1, 2, 3, 4\n",
    "Imprima la lista de configuración, la solicitud, su costo y la configuración de la lista ap"
   ]
  },
  {
   "cell_type": "code",
   "execution_count": 7,
   "id": "1b92976b",
   "metadata": {},
   "outputs": [
    {
     "name": "stdout",
     "output_type": "stream",
     "text": [
      "Lista Antes: [0, 1, 2, 3, 4],        Solicitud: 4,       Costo: 5,      Lista Después: [4, 0, 1, 2, 3]\n",
      "Lista Antes: [4, 0, 1, 2, 3],        Solicitud: 3,       Costo: 5,      Lista Después: [3, 4, 0, 1, 2]\n",
      "Lista Antes: [3, 4, 0, 1, 2],        Solicitud: 2,       Costo: 5,      Lista Después: [2, 3, 4, 0, 1]\n",
      "Lista Antes: [2, 3, 4, 0, 1],        Solicitud: 1,       Costo: 5,      Lista Después: [1, 2, 3, 4, 0]\n",
      "Lista Antes: [1, 2, 3, 4, 0],        Solicitud: 0,       Costo: 5,      Lista Después: [0, 1, 2, 3, 4]\n",
      "Lista Antes: [0, 1, 2, 3, 4],        Solicitud: 1,       Costo: 2,      Lista Después: [1, 0, 2, 3, 4]\n",
      "Lista Antes: [1, 0, 2, 3, 4],        Solicitud: 2,       Costo: 3,      Lista Después: [2, 1, 0, 3, 4]\n",
      "Lista Antes: [2, 1, 0, 3, 4],        Solicitud: 3,       Costo: 4,      Lista Después: [3, 2, 1, 0, 4]\n",
      "Lista Antes: [3, 2, 1, 0, 4],        Solicitud: 4,       Costo: 5,      Lista Después: [4, 3, 2, 1, 0]\n",
      "Lista Antes: [4, 3, 2, 1, 0],        Solicitud: 3,       Costo: 2,      Lista Después: [3, 4, 2, 1, 0]\n",
      "Lista Antes: [3, 4, 2, 1, 0],        Solicitud: 2,       Costo: 3,      Lista Después: [2, 3, 4, 1, 0]\n",
      "Lista Antes: [2, 3, 4, 1, 0],        Solicitud: 1,       Costo: 4,      Lista Después: [1, 2, 3, 4, 0]\n",
      "Lista Antes: [1, 2, 3, 4, 0],        Solicitud: 0,       Costo: 5,      Lista Después: [0, 1, 2, 3, 4]\n",
      "Lista Antes: [0, 1, 2, 3, 4],        Solicitud: 1,       Costo: 2,      Lista Después: [1, 0, 2, 3, 4]\n",
      "Lista Antes: [1, 0, 2, 3, 4],        Solicitud: 2,       Costo: 3,      Lista Después: [2, 1, 0, 3, 4]\n",
      "Lista Antes: [2, 1, 0, 3, 4],        Solicitud: 3,       Costo: 4,      Lista Después: [3, 2, 1, 0, 4]\n",
      "Lista Antes: [3, 2, 1, 0, 4],        Solicitud: 4,       Costo: 5,      Lista Después: [4, 3, 2, 1, 0]\n",
      "Costo total: 67\n"
     ]
    }
   ],
   "source": [
    "config = [0, 1, 2, 3, 4]\n",
    "requests = [4, 3, 2, 1, 0, 1, 2, 3, 4, 3, 2, 1, 0, 1, 2, 3, 4]\n",
    "\n",
    "total, history = move_to_front(config.copy(), requests)\n",
    "\n",
    "for step in history:\n",
    "    print(f\"Lista Antes: {step['before']},        Solicitud: {step['request']},       Costo: {step['cost']},      Lista Después: {step['after']}\")\n",
    "print(\"Costo total:\", total)\n"
   ]
  }
 ],
 "metadata": {
  "kernelspec": {
   "display_name": "Python 3",
   "language": "python",
   "name": "python3"
  },
  "language_info": {
   "codemirror_mode": {
    "name": "ipython",
    "version": 3
   },
   "file_extension": ".py",
   "mimetype": "text/x-python",
   "name": "python",
   "nbconvert_exporter": "python",
   "pygments_lexer": "ipython3",
   "version": "3.13.0"
  }
 },
 "nbformat": 4,
 "nbformat_minor": 5
}
