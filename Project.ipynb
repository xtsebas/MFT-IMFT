{
 "cells": [
  {
   "cell_type": "markdown",
   "id": "363167af",
   "metadata": {},
   "source": [
    "# Algoritmos de MFT e IMFT"
   ]
  },
  {
   "cell_type": "code",
   "execution_count": 1,
   "id": "2c0f2e1f",
   "metadata": {},
   "outputs": [],
   "source": [
    "from algorithms.MFT import move_to_front\n",
    "from algorithms.IMFT import improved_move_to_front"
   ]
  },
  {
   "cell_type": "markdown",
   "id": "d28d4cfd",
   "metadata": {},
   "source": [
    "## a) Calcular el costo de acceso utilizando el algoritmo MTF para\n",
    "    - a. Lista de configuración: 0, 1, 2, 3, 4\n",
    "    - b. Secuencia de solicitudes: 0, 1, 2, 3, 4, 0, 1, 2, 3, 4, 0, 1, 2, 3, 4, 0, 1, 2, 3, 4\n",
    "Imprima la lista de configuración, la solicitud, su costo y la configuración de la lista aplicando MTF\n",
    "por cada solicitud en la secuencia y, al final, imprima el costo total de los accesos.\n"
   ]
  },
  {
   "cell_type": "markdown",
   "id": "9a7736de",
   "metadata": {},
   "source": [
    "## b) Calcular el costo de acceso utilizando el algoritmo MTF para\n",
    "    - a. Lista de configuración: 0, 1, 2, 3, 4\n",
    "    - b. Secuencia de solicitudes: 4, 3, 2, 1, 0, 1, 2, 3, 4, 3, 2, 1, 0, 1, 2, 3, 4\n",
    "Imprima la lista de configuración, la solicitud, su costo y la configuración de la lista ap"
   ]
  }
 ],
 "metadata": {
  "kernelspec": {
   "display_name": "Python 3",
   "language": "python",
   "name": "python3"
  },
  "language_info": {
   "codemirror_mode": {
    "name": "ipython",
    "version": 3
   },
   "file_extension": ".py",
   "mimetype": "text/x-python",
   "name": "python",
   "nbconvert_exporter": "python",
   "pygments_lexer": "ipython3",
   "version": "3.13.0"
  }
 },
 "nbformat": 4,
 "nbformat_minor": 5
}
